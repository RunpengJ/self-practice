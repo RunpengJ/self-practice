{
 "cells": [
  {
   "cell_type": "markdown",
   "id": "3f7e42e3",
   "metadata": {},
   "source": [
    "# Advanced Problem Set Version 1"
   ]
  },
  {
   "cell_type": "markdown",
   "id": "dfa2c29f",
   "metadata": {},
   "source": [
    "Problem 1: Arrange Guest Arrival Order\n",
    "\n",
    "You are organizing a prestigious event, and you must arrange the order in which guests arrive based on their status. The sequence is dictated by a 0-indexed string arrival_pattern of length n, consisting of the characters 'I' meaning the next guest should have a higher status than the previous one, and 'D' meaning the next guest should have a lower status than the previous one.\n",
    "\n",
    "You need to create a 0-indexed string guest_order of length n + 1 that satisfies the following conditions:\n",
    "- guest_order consists of the digits '1' to '9', where each digit represents the guest's status and is used at most once.\n",
    "- If arrival_pattern[i] == 'I', then guest_order[i] < guest_order[i + 1].\n",
    "- If arrival_pattern[i] == 'D', then guest_order[i] > guest_order[i + 1].\n",
    "Return the lexicographically smallest possible string guest_order that meets the conditions."
   ]
  },
  {
   "cell_type": "code",
   "execution_count": 17,
   "id": "d9a22acd",
   "metadata": {},
   "outputs": [
    {
     "name": "stdout",
     "output_type": "stream",
     "text": [
      "123549876\n",
      "4321\n",
      "12345\n"
     ]
    }
   ],
   "source": [
    "# Problem 1\n",
    "def arrange_guest_arrival_order(arrival_pattern):\n",
    "    n = len(arrival_pattern)\n",
    "    result = []\n",
    "    stack = []\n",
    "    current_num = 1\n",
    "    \n",
    "    for i in range(n + 1):\n",
    "        # 总是先把当前数字压入栈\n",
    "        stack.append(current_num)\n",
    "        current_num += 1\n",
    "        \n",
    "        # 遇到'I'或到达末尾时，清空栈\n",
    "        if i == n or arrival_pattern[i] == 'I':\n",
    "            while stack:\n",
    "                result.append(str(stack.pop()))\n",
    "    \n",
    "    return ''.join(result)\n",
    "\n",
    "\n",
    "print(arrange_guest_arrival_order(\"IIIDIDDD\"))  \n",
    "print(arrange_guest_arrival_order(\"DDD\"))  \n",
    "print(arrange_guest_arrival_order(\"IIII\"))  \n"
   ]
  },
  {
   "cell_type": "markdown",
   "id": "1265f976",
   "metadata": {},
   "source": [
    "Problem 2: Reveal Attendee List in Order\n",
    "\n",
    "You are organizing an event where attendees have unique registration numbers. These numbers are provided in the list attendees. You need to arrange the attendees in a way that, when their registration numbers are revealed one by one, the numbers appear in increasing order.\n",
    "\n",
    "The process of revealing the attendee list follows these steps repeatedly until all registration numbers are revealed:\n",
    "\n",
    "- Take the top registration number from the list, reveal it, and remove it from the list.\n",
    "- If there are still registration numbers in the list, take the next top registration number and move it to the bottom of the list.\n",
    "- If there are still unrevealed registration numbers, go back to step 1. Otherwise, stop.\n",
    "Return an ordering of the registration numbers that would reveal the attendees in increasing order."
   ]
  },
  {
   "cell_type": "code",
   "execution_count": 21,
   "id": "0649a3fc",
   "metadata": {},
   "outputs": [
    {
     "name": "stdout",
     "output_type": "stream",
     "text": [
      "[2, 13, 3, 11, 5, 17, 7]\n",
      "[1, 1000]\n"
     ]
    }
   ],
   "source": [
    "def reveal_attendee_list_in_order(attendees):\n",
    "    sorted_attendees = sorted(attendees)\n",
    "    res = []\n",
    "\n",
    "    while sorted_attendees:\n",
    "        res.insert(0, sorted_attendees.pop())\n",
    "\n",
    "        if sorted_attendees:\n",
    "          res.insert(0, res.pop())\n",
    "\n",
    "    return res\n",
    "\n",
    "print(reveal_attendee_list_in_order([17,13,11,2,3,5,7])) \n",
    "print(reveal_attendee_list_in_order([1,1000]))  \n",
    "# [2,13,3,11,5,17,7]\n",
    "# [1,1000]\n"
   ]
  },
  {
   "cell_type": "markdown",
   "id": "61a3e7d0",
   "metadata": {},
   "source": [
    "Problem 3: Arrange Event Attendees by Priority\n",
    "\n",
    "You are organizing a large event and need to arrange the attendees based on their priority levels. You are given a 0-indexed list attendees, where each element represents the priority level of an attendee, and an integer priority that indicates a particular level of priority.\n",
    "\n",
    "Your task is to rearrange the attendees list such that the following conditions are met:\n",
    "\n",
    "- Every attendee with a priority less than the specified priority appears before every attendee with a priority greater than the specified priority.\n",
    "- Every attendee with a priority equal to the specified priority appears between the attendees with lower and higher priorities.\n",
    "- The relative order of the attendees within each priority group (less than, equal to, greater than) must be preserved.\n",
    "\n",
    "Return the attendees list after the rearrangement."
   ]
  },
  {
   "cell_type": "code",
   "execution_count": null,
   "id": "2dca02fa",
   "metadata": {},
   "outputs": [
    {
     "name": "stdout",
     "output_type": "stream",
     "text": [
      "[9, 5, 3, 10, 10, 12, 14]\n",
      "[-3, 2, 4, 3]\n"
     ]
    }
   ],
   "source": [
    "def arrange_attendees_by_priority(attendees, priority):\n",
    "    n = len(attendees)\n",
    "    queue = []\n",
    "    # ordered_index = 0\n",
    "\n",
    "    for i in range(n):\n",
    "        if attendees[i] < priority:\n",
    "            queue.append(attendees[i])\n",
    "\n",
    "    for i in range(n):\n",
    "        if attendees[i] == priority:\n",
    "            queue.append(attendees[i])\n",
    "\n",
    "    for i in range(n):\n",
    "        if attendees[i] > priority:\n",
    "            queue.append(attendees[i])\n",
    "\n",
    "\n",
    "    return queue\n",
    "\n",
    "print(arrange_attendees_by_priority([9,12,5,10,14,3,10], 10)) \n",
    "print(arrange_attendees_by_priority([-3,4,3,2], 2)) \n",
    "\n",
    "# [9,5,3,10,10,12,14]\n",
    "# [-3,2,4,3]"
   ]
  },
  {
   "cell_type": "markdown",
   "id": "cc3170be",
   "metadata": {},
   "source": [
    "Problem 4: Rearrange Guests by Attendance and Absence\n",
    "\n",
    "You are organizing an event, and you have a 0-indexed list guests of even length, where each element represents either an attendee (positive integers) or an absence (negative integers). The list contains an equal number of attendees and absences.\n",
    "\n",
    "You should return the guests list rearranged to satisfy the following conditions:\n",
    "\n",
    "- Every consecutive pair of elements must have opposite signs, indicating that each attendee is followed by an absence or vice versa.\n",
    "- For all elements with the same sign, the order in which they appear in the original list must be preserved.\n",
    "- The rearranged list must begin with an attendee (positive integer).\n",
    "- \n",
    "Return the rearranged list after organizing the guests according to the conditions."
   ]
  },
  {
   "cell_type": "code",
   "execution_count": 28,
   "id": "8e1fc581",
   "metadata": {},
   "outputs": [
    {
     "name": "stdout",
     "output_type": "stream",
     "text": [
      "[3, -2, 1, -5, 2, -4]\n",
      "[1, -1]\n"
     ]
    }
   ],
   "source": [
    "def rearrange_guests(guests):\n",
    "    n = len(guests)\n",
    "    res = [0] * n\n",
    "    index = 0\n",
    "\n",
    "    for i in range(n):\n",
    "        if guests[i] > 0:\n",
    "            res[index] = guests[i]\n",
    "            index += 2\n",
    "    index = 1\n",
    "    for i in range(n):\n",
    "        if guests[i] < 0:\n",
    "            res[index] = guests[i]\n",
    "            index += 2\n",
    "\n",
    "    return res\n",
    "\n",
    "print(rearrange_guests([3,1,-2,-5,2,-4]))  \n",
    "print(rearrange_guests([-1,1])) \n",
    "\n",
    "# [3,-2,1,-5,2,-4]\n",
    "# [1,-1]"
   ]
  },
  {
   "cell_type": "markdown",
   "id": "d1bbd4a3",
   "metadata": {},
   "source": [
    "Problem 5: Minimum Changes to Make Schedule Balanced\n",
    "\n",
    "You are organizing a series of events, and each event is represented by a parenthesis in the string schedule, where an opening parenthesis ( represents the start of an event, and a closing parenthesis ) represents the end of an event. A balanced schedule means every event that starts has a corresponding end.\n",
    "\n",
    "However, due to some scheduling issues, the current schedule might not be balanced. In one move, you can insert either a start or an end at any position in the schedule.\n",
    "\n",
    "Return the minimum number of moves required to make the schedule balanced."
   ]
  },
  {
   "cell_type": "code",
   "execution_count": 34,
   "id": "c6c9d05e",
   "metadata": {},
   "outputs": [
    {
     "name": "stdout",
     "output_type": "stream",
     "text": [
      "1\n",
      "3\n"
     ]
    }
   ],
   "source": [
    "def min_changes_to_make_balanced(schedule):\n",
    "    stack = []\n",
    "\n",
    "    for p in schedule:\n",
    "        if p == ')':\n",
    "            if len(stack) == 0 or stack[-1] == ')':\n",
    "                stack.append(p)\n",
    "            else:\n",
    "                stack.pop()\n",
    "\n",
    "        else:\n",
    "            stack.append(p)\n",
    "\n",
    "    return len(stack)\n",
    "\n",
    "print(min_changes_to_make_balanced(\"())\")) \n",
    "print(min_changes_to_make_balanced(\"(((\")) \n",
    "# 1\n",
    "# 3"
   ]
  },
  {
   "cell_type": "markdown",
   "id": "a4567473",
   "metadata": {},
   "source": [
    "Problem 6: Marking the Event Timeline\n",
    "\n",
    "You are given two strings event and timeline. Initially, there is a string t of length timeline.length with all t[i] == '?'.\n",
    "\n",
    "In one turn, you can place event over t and replace every letter in t with the corresponding letter from event.\n",
    "\n",
    "For example, if event = \"abc\" and timeline = \"abcba\", then t is \"?????\" initially. In one turn, you can:\n",
    "\n",
    "- place event at index 0 of t to obtain \"abc??\",\n",
    "- place event at index 1 of t to obtain \"?abc?\", or\n",
    "- place event at index 2 of t to obtain \"??abc\".\n",
    "\n",
    "Note that event must be fully contained within the boundaries of t in order to mark (i.e., you cannot place event at index 3 of t). We want to convert t to timeline using at most 10 * timeline.length turns.\n",
    "\n",
    "Return an array of the index of the left-most letter being marked at each turn. If we cannot obtain timeline from t within 10 * timeline.length turns, return an empty array."
   ]
  },
  {
   "cell_type": "code",
   "execution_count": 43,
   "id": "32237ea5",
   "metadata": {},
   "outputs": [
    {
     "name": "stdout",
     "output_type": "stream",
     "text": [
      "[0, 2]\n",
      "[0, 3, 1]\n"
     ]
    }
   ],
   "source": [
    "def mark_event_timeline(event, timeline):\n",
    "    n, m = len(timeline), len(event)\n",
    "    t = ['?'] * n\n",
    "    stamped = [False] * n\n",
    "    res = []\n",
    "\n",
    "    changed = True\n",
    "    while changed:\n",
    "        changed = False\n",
    "        for s in range(0, n - m + 1):\n",
    "            # can we stamp at s?\n",
    "            made_progress = False\n",
    "            for j in range(m):\n",
    "                if t[s+j] == '?' and timeline[s+j] == event[j]:\n",
    "                    made_progress = True\n",
    "                elif t[s+j] != timeline[s+j]:\n",
    "                    break  # conflict\n",
    "            else:\n",
    "                # all positions either match or were '?'\n",
    "                if made_progress:\n",
    "                    # do the stamp\n",
    "                    for j in range(m):\n",
    "                        t[s+j] = timeline[s+j]\n",
    "                    res.append(s)\n",
    "                    changed = True\n",
    "        # end for\n",
    "    # end while\n",
    "\n",
    "    return res[::-1] if ''.join(t) == timeline else []\n",
    "\n",
    "print(mark_event_timeline(\"abc\", \"ababc\"))  # [0, 2]\n",
    "print(mark_event_timeline(\"abca\", \"aabcaca\")) # [3, 0, 1]\n",
    "\n",
    "# [0, 2]\n",
    "# [3, 0, 1]\n"
   ]
  },
  {
   "cell_type": "code",
   "execution_count": null,
   "id": "1d31955a",
   "metadata": {},
   "outputs": [],
   "source": []
  }
 ],
 "metadata": {
  "kernelspec": {
   "display_name": "base",
   "language": "python",
   "name": "python3"
  },
  "language_info": {
   "codemirror_mode": {
    "name": "ipython",
    "version": 3
   },
   "file_extension": ".py",
   "mimetype": "text/x-python",
   "name": "python",
   "nbconvert_exporter": "python",
   "pygments_lexer": "ipython3",
   "version": "3.12.3"
  }
 },
 "nbformat": 4,
 "nbformat_minor": 5
}
