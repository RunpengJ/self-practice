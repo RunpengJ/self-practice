{
 "cells": [
  {
   "cell_type": "code",
   "execution_count": null,
   "id": "d9a22acd",
   "metadata": {},
   "outputs": [],
   "source": [
    "# Problem 1\n",
    "\n",
    "def arrange_guest_arrival_order(arrival_pattern):\n",
    "  pass\n"
   ]
  },
  {
   "cell_type": "code",
   "execution_count": null,
   "id": "0649a3fc",
   "metadata": {},
   "outputs": [],
   "source": [
    "def reveal_attendee_list_in_order(attendees):\n",
    "  reveal_list = sorted(attendees)\n",
    "  queue = []\n",
    "\n",
    "  while reveal_list:\n",
    "    queue.append(reveal_list.pop())\n",
    "    queue.append(0, pop())\n"
   ]
  },
  {
   "cell_type": "code",
   "execution_count": null,
   "id": "599a6b6e",
   "metadata": {},
   "outputs": [],
   "source": []
  },
  {
   "cell_type": "markdown",
   "id": "71dee81a",
   "metadata": {},
   "source": [
    "Problem 1: Arrange Guest Arrival Order\n",
    "You are organizing a prestigious event, and you must arrange the order in which guests arrive based on their status. The sequence is dictated by a 0-indexed string arrival_pattern of length n, consisting of the characters 'I' meaning the next guest should have a higher status than the previous one, and 'D' meaning the next guest should have a lower status than the previous one.\n",
    "\n",
    "You need to create a 0-indexed string guest_order of length n + 1 that satisfies the following conditions:\n",
    "\n",
    "guest_order consists of the digits '1' to '9', where each digit represents the guest's status and is used at most once.\n",
    "If arrival_pattern[i] == 'I', then guest_order[i] < guest_order[i + 1].\n",
    "If arrival_pattern[i] == 'D', then guest_order[i] > guest_order[i + 1].\n",
    "Return the lexicographically smallest possible string guest_order that meets the conditions.\n",
    "\n",
    "def arrange_guest_arrival_order(arrival_pattern):\n",
    "  pass\n",
    "Example Usage:\n",
    "\n",
    "print(arrange_guest_arrival_order(\"IIIDIDDD\"))  \n",
    "print(arrange_guest_arrival_order(\"DDD\"))  \n",
    "Example Output:\n",
    "\n",
    "123549876\n",
    "4321"
   ]
  },
  {
   "cell_type": "code",
   "execution_count": 14,
   "id": "4cfa2ef9",
   "metadata": {},
   "outputs": [
    {
     "name": "stdout",
     "output_type": "stream",
     "text": [
      "123548765\n",
      "4321\n",
      "12345\n"
     ]
    }
   ],
   "source": [
    "def arrange_guest_arrival_order(arrival_pattern):\n",
    "    n = len(arrival_pattern)\n",
    "    index = 0\n",
    "    res = \"\" # return result\n",
    "    stack = []\n",
    "\n",
    "    for i in range(len(arrival_pattern) + 1):\n",
    "        if i == n or arrival_pattern[i] == 'I':\n",
    "            while stack:\n",
    "                # empty stack\n",
    "                res = res + str(len(stack) + index + 1)\n",
    "                stack.pop()\n",
    "            \n",
    "            index += 1\n",
    "            res = res + str(index)\n",
    "\n",
    "        else:\n",
    "            stack.append(arrival_pattern[i])\n",
    "\n",
    "    while stack:\n",
    "        res = res + str(len(stack) + index + 1) \n",
    "        stack.pop()\n",
    "\n",
    "    return res\n",
    "\n",
    "\n",
    "print(arrange_guest_arrival_order(\"IIIDIDDD\"))  \n",
    "print(arrange_guest_arrival_order(\"DDD\"))  \n",
    "print(arrange_guest_arrival_order(\"IIII\"))  \n"
   ]
  },
  {
   "cell_type": "code",
   "execution_count": null,
   "id": "2dca02fa",
   "metadata": {},
   "outputs": [],
   "source": []
  }
 ],
 "metadata": {
  "kernelspec": {
   "display_name": "base",
   "language": "python",
   "name": "python3"
  },
  "language_info": {
   "name": "python",
   "version": "3.12.2"
  }
 },
 "nbformat": 4,
 "nbformat_minor": 5
}
