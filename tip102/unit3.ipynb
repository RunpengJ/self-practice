{
 "cells": [
  {
   "cell_type": "code",
   "execution_count": null,
   "id": "d9a22acd",
   "metadata": {},
   "outputs": [],
   "source": [
    "# Problem 1\n",
    "\n",
    "def arrange_guest_arrival_order(arrival_pattern):\n",
    "  pass\n"
   ]
  },
  {
   "cell_type": "code",
   "execution_count": null,
   "id": "0649a3fc",
   "metadata": {},
   "outputs": [],
   "source": [
    "def reveal_attendee_list_in_order(attendees):\n",
    "  reveal_list = sorted(attendees)\n",
    "  queue = []\n",
    "\n",
    "  while reveal_list:\n",
    "    queue.append(reveal_list.pop())\n",
    "    queue.append(0, pop())\n"
   ]
  }
 ],
 "metadata": {
  "language_info": {
   "name": "python"
  }
 },
 "nbformat": 4,
 "nbformat_minor": 5
}
