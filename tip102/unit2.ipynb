{
 "cells": [
  {
   "cell_type": "markdown",
   "id": "0176fb14",
   "metadata": {},
   "source": [
    "Write a function sum_of_digits() that accepts an integer num and returns the sum of num's digits."
   ]
  },
  {
   "cell_type": "code",
   "execution_count": 1,
   "id": "2eb7f89d",
   "metadata": {},
   "outputs": [],
   "source": [
    "def sum_of_digits(num):\n",
    "    total = 0\n",
    "    while num > 0:\n",
    "        last_digit = num % 10\n",
    "        num //= 10\n",
    "        total += last_digit\n",
    "\n",
    "    print(total)\n",
    "    return total\n",
    "    "
   ]
  },
  {
   "cell_type": "code",
   "execution_count": 4,
   "id": "0766304d",
   "metadata": {},
   "outputs": [
    {
     "name": "stdout",
     "output_type": "stream",
     "text": [
      "9\n",
      "4\n",
      "45\n"
     ]
    },
    {
     "data": {
      "text/plain": [
       "45"
      ]
     },
     "execution_count": 4,
     "metadata": {},
     "output_type": "execute_result"
    }
   ],
   "source": [
    "num = 423\n",
    "sum_of_digits(num)\n",
    "\n",
    "num = 4\n",
    "sum_of_digits(num)\n",
    "\n",
    "num = 1234567890\n",
    "sum_of_digits(num)"
   ]
  },
  {
   "cell_type": "code",
   "execution_count": null,
   "id": "48193772",
   "metadata": {},
   "outputs": [],
   "source": []
  }
 ],
 "metadata": {
  "kernelspec": {
   "display_name": "base",
   "language": "python",
   "name": "python3"
  },
  "language_info": {
   "codemirror_mode": {
    "name": "ipython",
    "version": 3
   },
   "file_extension": ".py",
   "mimetype": "text/x-python",
   "name": "python",
   "nbconvert_exporter": "python",
   "pygments_lexer": "ipython3",
   "version": "3.12.2"
  }
 },
 "nbformat": 4,
 "nbformat_minor": 5
}
